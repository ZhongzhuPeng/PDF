{
 "cells": [
  {
   "cell_type": "code",
   "execution_count": 1,
   "metadata": {
    "collapsed": true
   },
   "outputs": [],
   "source": [
    "import pickle\n",
    "def save_obj(obj, name ):\n",
    "    with open(name + '.pkl', 'wb') as f:\n",
    "        pickle.dump(obj, f, pickle.HIGHEST_PROTOCOL)\n",
    "\n",
    "def load_obj(name):\n",
    "    with open(name + '.pkl', 'rb') as f:\n",
    "        return pickle.load(f)"
   ]
  },
  {
   "cell_type": "code",
   "execution_count": 2,
   "metadata": {
    "collapsed": true
   },
   "outputs": [],
   "source": [
    "pk_data = load_obj('dict')"
   ]
  },
  {
   "cell_type": "code",
   "execution_count": 3,
   "metadata": {
    "collapsed": true
   },
   "outputs": [],
   "source": [
    "def search(data, key_word):\n",
    "    res = ''\n",
    "    for cat, value in data.items():\n",
    "        found_cat = False\n",
    "        if key_word.lower() in cat.lower():\n",
    "            print('Category: ' + cat)\n",
    "            res +='Category: ' + cat +'\\n'\n",
    "            found_cat = True\n",
    "            \n",
    "        for page_num, content in value.items():\n",
    "            for sub, c in content.items():\n",
    "                found_sub = False\n",
    "                if key_word.lower() in sub[0].lower():\n",
    "                    if not found_cat:\n",
    "                        print('Category: ' + cat)\n",
    "                        res +='Category: ' + cat +'\\n'\n",
    "                        found_cat = True\n",
    "                    if not found_sub:\n",
    "                        print('Page:'+str(page_num+1) +'\\t'+ sub[0])\n",
    "                        res += 'Page:'+str(page_num+1) +'\\t'+ sub[0]+'\\n'\n",
    "                        found_sub = True\n",
    "                        \n",
    "                for line in c.values():\n",
    "                    for phrase in line:\n",
    "                        if key_word.lower() in phrase[0].lower():\n",
    "                            if not found_cat:\n",
    "                                print('Category: ' + cat)\n",
    "                                res +='Category: ' + cat +'\\n'\n",
    "                                found_cat = True\n",
    "                            if not found_sub:\n",
    "                                print('\\t' + sub[0])\n",
    "                                res += 'Page:'+str(page_num+1) +'\\t' + sub[0] +'\\n'\n",
    "                                found_sub = True\n",
    "                            print('\\t\\t'+phrase[0])\n",
    "                            res += '\\t\\t'+phrase[0] +'\\n'\n",
    "    return res"
   ]
  },
  {
   "cell_type": "code",
   "execution_count": 4,
   "metadata": {
    "collapsed": true
   },
   "outputs": [],
   "source": [
    "def search2(data, key_word):\n",
    "    res = ''\n",
    "    for cat, value in data.items():\n",
    "        found_cat = False\n",
    "        if key_word.lower() in cat.lower():\n",
    "            print('Category: ' + cat)\n",
    "            res +='Category: ' + cat +'\\n'\n",
    "            found_cat = True\n",
    "            \n",
    "        for page_num, content in value.items():\n",
    "            for sub, c in content.items():\n",
    "                found_sub = False\n",
    "                if key_word.lower() in sub[0].lower():\n",
    "                    found_sub = True\n",
    "                    break\n",
    "                for line in c.values():\n",
    "                    for phrase in line:\n",
    "                        if key_word.lower() in phrase[0].lower():\n",
    "                            found_sub = True\n",
    "                            break\n",
    "                    if found_sub:\n",
    "                        break\n",
    "                if found_sub:\n",
    "                    if not found_cat:\n",
    "                        print('Category: ' + cat)\n",
    "                        res +='Category: ' + cat +'\\n'\n",
    "                        found_cat = True\n",
    "                    print('Page:'+str(page_num+1) +'\\t'+ sub[0])\n",
    "                    res += 'Page:'+str(page_num+1) +'\\t'+ sub[0]+'\\n'           \n",
    "                    for sub, c in content.items():\n",
    "                        for line in c.values():\n",
    "                            for phrase in line:\n",
    "                                print('\\t\\t'+phrase[0])\n",
    "                                res += '\\t\\t'+phrase[0]\n",
    "                            res += '\\n'\n",
    "    return res"
   ]
  },
  {
   "cell_type": "code",
   "execution_count": 12,
   "metadata": {},
   "outputs": [],
   "source": [
    "from tkinter import *\n",
    "import tkinter as tk\n",
    "import tkinter.scrolledtext as tkst\n",
    "\n",
    "def evaluate(event, data = pk_data):\n",
    "    #res.configure(text = \"Ergebnis: \" + search(data, entry.get()))\n",
    "    editArea.pack(padx=10, pady=10, fill=tk.BOTH, expand=True)\n",
    "    editArea.delete(1.0, END)\n",
    "    editArea.insert(tk.INSERT, search2(data, entry.get()))\n",
    "    \n",
    "w = tk.Tk()\n",
    "#w.geometry(\"500x40\")\n",
    "w.title('Search')\n",
    "Label(w, text=\"Input key word:\").pack()\n",
    "entry = Entry(w)\n",
    "entry.bind(\"<Return>\", evaluate)\n",
    "entry.pack()\n",
    "\n",
    "frame1 = tk.Frame(\n",
    "    master = w,\n",
    "    bg = '#1a8443'\n",
    ")\n",
    "frame1.pack(fill='both', expand='yes')\n",
    "editArea = tkst.ScrolledText(\n",
    "    master = frame1,\n",
    "    wrap   = tk.WORD,\n",
    "    width  = 60,\n",
    "    height = 15\n",
    ")\n",
    "\n",
    "\n",
    "w.mainloop()"
   ]
  },
  {
   "cell_type": "code",
   "execution_count": null,
   "metadata": {
    "collapsed": true
   },
   "outputs": [],
   "source": []
  }
 ],
 "metadata": {
  "kernelspec": {
   "display_name": "Python 3",
   "language": "python",
   "name": "python3"
  },
  "language_info": {
   "codemirror_mode": {
    "name": "ipython",
    "version": 3
   },
   "file_extension": ".py",
   "mimetype": "text/x-python",
   "name": "python",
   "nbconvert_exporter": "python",
   "pygments_lexer": "ipython3",
   "version": "3.6.1"
  }
 },
 "nbformat": 4,
 "nbformat_minor": 2
}
