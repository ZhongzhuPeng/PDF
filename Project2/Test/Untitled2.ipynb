{
 "cells": [
  {
   "cell_type": "code",
   "execution_count": 3,
   "metadata": {},
   "outputs": [
    {
     "name": "stdout",
     "output_type": "stream",
     "text": [
      "257.570000, 744.608640, DAILY CONSTRUCTION REPORT _\n",
      "122.420000, 726.488640,           SOUTH TOWER _\n",
      "122.420000, 707.528640,           BUILDING CONTRACTORS, INC _\n",
      "316.490000, 707.528640, REPORT BY:  EHAB GNAN _\n",
      "81.864000, 688.668640,           JAN 28, 2017 _\n",
      "189.860000, 688.668640, DAY:  MONDAY _\n",
      "372.310000, 688.668640, REPORT NO: _\n",
      "432.910000, 688.668640,           41321426 _\n",
      "36.000000, 665.995360,  _PROJECT TITLE: _ _CONTRACTOR: _ _DATE: _ _WEATHER _\n",
      "108.020000, 625.668640,  _Low Temperature:  54 _High Temperature:  68 _\n",
      "36.000000, 660.084640,  _\n",
      "36.000000, 579.708640, TEMPERATURE _ _ _ _NOTES             _ _ _\n",
      "36.000000, 574.884640,  _\n",
      "36.000000, 551.515360,  _WORKMEN/VISITORS _\n",
      "324.070000, 648.468640, CONDITIONS  A.M _\n",
      "369.070000, 637.188640,  _\n",
      "407.590000, 579.708640,  Partly Cloudy  _ Cloudy _ Windy _ Rain _ Snow _ Other             _\n",
      "522.100000, 637.188640, . _\n",
      "540.100000, 579.708640, P.M _ _ _ _ _ _ _\n",
      "36.000000, 545.484640,  _\n",
      "36.000000, 533.838640,  _\n",
      "36.000000, 529.254640,  _\n",
      "126.020000, 533.838640, TOTAL _\n",
      "247.610000, 533.838640, TOTAL _\n",
      "378.070000, 533.838640, TOTAL _\n",
      "499.660000, 533.838640, TOTAL _\n",
      "126.020000, 506.478640,            _           _\n",
      "126.020000, 460.518640,            _           _           _\n",
      "73.104000, 495.078640, Abatement _Balancing _Carpenters  1 _\n",
      "36.000000, 414.558640,  _ _ _Caulking _ _ _Ceiling _  Concrete Finishers _ _ _ _ _\n",
      "83.184000, 414.558640, Elevator _\n",
      "86.424000, 448.998640, Control  1           _\n",
      "95.904000, 437.478640, DDC _\n",
      "126.020000, 437.478640,            _\n",
      "69.864000, 426.078640, Electricians  1           _\n",
      "126.020000, 414.558640,            _\n",
      "172.220000, 506.478640, Field Staff  1           _Finish Carpenters  1           _\n",
      "189.380000, 472.038640, Flooring _Insulator _Iron Workers _\n",
      "207.530000, 460.518640, Laborers  2 _\n",
      "193.100000, 437.478640, Landscapers _Masons _\n",
      "252.050000, 437.478640, Plasterers  1 _Plumbers _Roofers _           _           _Sheet metal _            Sheet rockers/Tapers _Sprinkler _Tile Setters _Watchmen  1 _\n",
      "252.050000, 437.478640,            _           _\n",
      "382.630000, 448.998640,            _           _           _           _           _           _\n",
      "421.750000, 460.518640, Others: (list trade) _           _           _           _           _           _\n",
      "504.100000, 460.518640,            _           _           _           _           _\n",
      "203.570000, 426.078640, Operators  2 _\n",
      "210.890000, 414.558640, Painters _\n",
      "252.050000, 414.558640,            _\n",
      "335.350000, 414.558640, Windows _ _\n",
      "382.630000, 414.558640,            _ _\n",
      "458.020000, 414.558640, TOTALS:  11 _\n",
      "36.000000, 392.293360,  _ _ _\n",
      "36.000000, 386.094640,  _\n",
      "36.000000, 160.468640, NOTES _ _TIME 07:23AM RECORDED BY EHAB GNAN JOBSITE WAS WET THIS MORNING FROM AN EARLY MORNING SPRINKLE. WE HAD TO _REMOVE THE VISQUEEN SHEETS TO ALLOW ACCESS TO THE FIRST FLOOR WORK AREA. THE BUILDING WAS MOSTLY DRY INSIDE. _ _TIME 08:17AM RECORDED BY EHAB GNAN THE DRYWALL FOREMEN BOB TOLD BE THAT HE CANNOT START THE DRYWALL _BECAUSE ELECTRICIANS ARE NOT FINISHED ROUGHING IN THE CABLING IN THE CONFERENCE ROOM. I REMINDED THE ELECTRICIAN BILL _THAT I TOLD HIM YESTERDAY THAT THE DRYWALL HAD TO BE INSTALLED TODAY AND THAT WE WERE GOING TO BACK CHARGE THEM IF _THEY DID NOT FINISH THE CA-BLING BY YESTERDAY. CABLING WAS ALREADY 2 DAYS BEHIND SCHEDULE. _ _TIME 02:17PM RECORDED BY EHAB GNAN THE BUILDING INSPECTOR CAME BY AND SIGNED OFF THE ROUGH PLUMBING IN THE _EAST HALL RESTROOMS. HE MENTIONED THAT WE NEED TO PROVIDE THE HANDICAP SIGNAGE ACCORDING TO THE NEW ORDINANCE. I _SENT AN RFI TO THE ARCHITECT TO PROVIDE UPDATE DESIGN SPECIFICATIONS. _ _TIME 04:30PM RECORDED BY EHAB GNAN THE OWNER AND HIS ARCHITECT CAME BY TO SEE THE PROGRESS. WE WALKED _THROUGH OUT THE BUILDING AND AROUND THE SITE. JOHN TOLD ME THAT THEY MIGHT HAVE PLANS COMING FOR A NEW TENANT _IMPROVEMENT ON THE MAIN FLOOR AND THAT WE SHOULD HOLD OFF COMPLETING THE WORK ON THE NORTH END OF THE FIRST FLOOR _UNTIL FURTHER NOTICE. _ _ _\n",
      "576.100000, 151.163360,  _\n"
     ]
    }
   ],
   "source": [
    "from pdfminer.pdfparser import PDFParser\n",
    "from pdfminer.pdfdocument import PDFDocument\n",
    "from pdfminer.pdfpage import PDFPage\n",
    "from pdfminer.pdfpage import PDFTextExtractionNotAllowed\n",
    "from pdfminer.pdfinterp import PDFResourceManager\n",
    "from pdfminer.pdfinterp import PDFPageInterpreter\n",
    "from pdfminer.pdfdevice import PDFDevice\n",
    "from pdfminer.layout import LAParams\n",
    "from pdfminer.converter import PDFPageAggregator\n",
    "import pdfminer\n",
    "\n",
    "# Open a PDF file.\n",
    "fp = open('test.pdf', 'rb')\n",
    "\n",
    "# Create a PDF parser object associated with the file object.\n",
    "parser = PDFParser(fp)\n",
    "\n",
    "# Create a PDF document object that stores the document structure.\n",
    "# Password for initialization as 2nd parameter\n",
    "document = PDFDocument(parser)\n",
    "\n",
    "# Check if the document allows text extraction. If not, abort.\n",
    "if not document.is_extractable:\n",
    "    raise PDFTextExtractionNotAllowed\n",
    "\n",
    "# Create a PDF resource manager object that stores shared resources.\n",
    "rsrcmgr = PDFResourceManager()\n",
    "\n",
    "# Create a PDF device object.\n",
    "device = PDFDevice(rsrcmgr)\n",
    "\n",
    "# BEGIN LAYOUT ANALYSIS\n",
    "# Set parameters for analysis.\n",
    "laparams = LAParams()\n",
    "\n",
    "# Create a PDF page aggregator object.\n",
    "device = PDFPageAggregator(rsrcmgr, laparams=laparams)\n",
    "\n",
    "# Create a PDF interpreter object.\n",
    "interpreter = PDFPageInterpreter(rsrcmgr, device)\n",
    "\n",
    "def parse_obj(lt_objs):\n",
    "\n",
    "    # loop over the object list\n",
    "    for obj in lt_objs:\n",
    "\n",
    "        # if it's a textbox, print text and location\n",
    "        if isinstance(obj, pdfminer.layout.LTTextBoxHorizontal):\n",
    "            print \"%6f, %6f, %s\" % (obj.bbox[0], obj.bbox[1], obj.get_text().replace('\\n', '_'))\n",
    "\n",
    "        # if it's a container, recurse\n",
    "        elif isinstance(obj, pdfminer.layout.LTFigure):\n",
    "            parse_obj(obj._objs)\n",
    "\n",
    "# loop over all pages in the document\n",
    "for page in PDFPage.create_pages(document):\n",
    "\n",
    "    # read the page into a layout object\n",
    "    interpreter.process_page(page)\n",
    "    layout = device.get_result()\n",
    "\n",
    "    # extract text from this object\n",
    "    parse_obj(layout._objs)"
   ]
  },
  {
   "cell_type": "code",
   "execution_count": 6,
   "metadata": {},
   "outputs": [
    {
     "data": {
      "text/plain": [
       "pdfminer.layout.LTPage"
      ]
     },
     "execution_count": 6,
     "metadata": {},
     "output_type": "execute_result"
    }
   ],
   "source": [
    "type(layout)"
   ]
  },
  {
   "cell_type": "code",
   "execution_count": 9,
   "metadata": {},
   "outputs": [
    {
     "data": {
      "text/plain": [
       "<LTTextBoxHorizontal(19) 36.000,545.485,36.990,549.084 u' \\n'>"
      ]
     },
     "execution_count": 9,
     "metadata": {},
     "output_type": "execute_result"
    }
   ],
   "source": [
    "layout._objs[19]"
   ]
  },
  {
   "cell_type": "code",
   "execution_count": null,
   "metadata": {
    "collapsed": true
   },
   "outputs": [],
   "source": []
  }
 ],
 "metadata": {
  "kernelspec": {
   "display_name": "Python 3",
   "language": "python",
   "name": "python3"
  },
  "language_info": {
   "codemirror_mode": {
    "name": "ipython",
    "version": 3
   },
   "file_extension": ".py",
   "mimetype": "text/x-python",
   "name": "python",
   "nbconvert_exporter": "python",
   "pygments_lexer": "ipython3",
   "version": "3.6.1"
  }
 },
 "nbformat": 4,
 "nbformat_minor": 2
}
