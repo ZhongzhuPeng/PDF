{
 "cells": [
  {
   "cell_type": "code",
   "execution_count": 1,
   "metadata": {},
   "outputs": [
    {
     "name": "stdout",
     "output_type": "stream",
     "text": [
      "Hi, what's up\n",
      "\n"
     ]
    }
   ],
   "source": [
    "import Tkinter as tk\n",
    "\n",
    "root = tk.Tk()\n",
    "tk.Label(root,text=\"Hello World\").pack()\n",
    "message = tk.Entry(root)\n",
    "message.insert(0,\"Hi, what's up\")\n",
    "message.pack()\n",
    "\n",
    "def print_content():\n",
    "    print message.get()\n",
    "    message.delete(0,'end')\n",
    "tk.Button(root,text=\"print\",command=print_content).pack()\n",
    "\n",
    "root.bind('<Return>',lambda event:print_content()) # <Return>代表回车键\n",
    "\n",
    "root.mainloop()\n"
   ]
  },
  {
   "cell_type": "code",
   "execution_count": 7,
   "metadata": {},
   "outputs": [],
   "source": [
    "#!/usr/bin/python\n",
    "\n",
    "import Tkinter\n",
    "top = Tkinter.Tk()\n",
    "# Code to add widgets will go here...\n",
    "top.mainloop()"
   ]
  },
  {
   "cell_type": "code",
   "execution_count": 2,
   "metadata": {},
   "outputs": [],
   "source": [
    "from Tkinter import *\n",
    " \n",
    "master = Tk()\n",
    " \n",
    "variable = StringVar(master)\n",
    "variable.set(\"one\") # default value\n",
    " \n",
    "w = OptionMenu(master, variable, \"one\", \"two\", \"three\")\n",
    "w.pack()\n",
    " \n",
    "mainloop()"
   ]
  },
  {
   "cell_type": "code",
   "execution_count": 23,
   "metadata": {
    "collapsed": true
   },
   "outputs": [],
   "source": [
    "import Tkinter\n",
    "import ttk \n",
    " \n",
    "master = Tkinter.Tk()\n",
    " \n",
    "variable = Tkinter.StringVar(master)\n",
    "variable.set(\"one\") # default value\n",
    " \n",
    "w = ttk.Combobox(master, textvariable=variable, values=[\"one\", \"two\", \"three\"])\n",
    "w.pack()\n",
    " \n",
    "master.mainloop()"
   ]
  },
  {
   "cell_type": "code",
   "execution_count": 3,
   "metadata": {},
   "outputs": [],
   "source": [
    "#!/usr/bin/env python\n",
    "# -*- coding: utf-8 -*-\n",
    "\n",
    "\n",
    "import Tkinter as tk\n",
    "import ttk\n",
    "\n",
    "win = tk.Tk()\n",
    "win.title(\"Python GUI\")    # 添加标题\n",
    "\n",
    "ttk.Label(win, text=\"Chooes a number\").grid(column=1, row=0)    # 添加一个标签，并将其列设置为1，行设置为0\n",
    "ttk.Label(win, text=\"Enter a name:\").grid(column=0, row=0)      # 设置其在界面中出现的位置  column代表列   row 代表行\n",
    "\n",
    "# button被点击之后会被执行\n",
    "def clickMe():   # 当acction被点击时,该函数则生效\n",
    "  action.configure(text='Hello ' + name.get() + ' ' + numberChosen.get())     # 设置button显示的内容\n",
    "\n",
    "# 按钮\n",
    "action = ttk.Button(win, text=\"Click Me!\", command=clickMe)     # 创建一个按钮, text：显示按钮上面显示的文字, command：当这个按钮被点击之后会调用command函数\n",
    "action.grid(column=2, row=1)    # 设置其在界面中出现的位置  column代表列   row 代表行\n",
    "\n",
    "# 文本框\n",
    "name = tk.StringVar()     # StringVar是Tk库内部定义的字符串变量类型，在这里用于管理部件上面的字符；不过一般用在按钮button上。改变StringVar，按钮上的文字也随之改变。\n",
    "nameEntered = ttk.Entry(win, width=12, textvariable=name)   # 创建一个文本框，定义长度为12个字符长度，并且将文本框中的内容绑定到上一句定义的name变量上，方便clickMe调用\n",
    "nameEntered.grid(column=0, row=1)       # 设置其在界面中出现的位置  column代表列   row 代表行\n",
    "nameEntered.focus()     # 当程序运行时,光标默认会出现在该文本框中\n",
    "\n",
    "# 创建一个下拉列表\n",
    "number = tk.StringVar()\n",
    "numberChosen = ttk.Combobox(win, width=12, textvariable=number)\n",
    "numberChosen['values'] = (1, 2, 4, 42, 100)     # 设置下拉列表的值\n",
    "numberChosen.grid(column=1, row=1)      # 设置其在界面中出现的位置  column代表列   row 代表行\n",
    "numberChosen.current(0)    # 设置下拉列表默认显示的值，0为 numberChosen['values'] 的下标值\n",
    "\n",
    "win.mainloop()      # 当调用mainloop()时,窗口才会显示出来\n"
   ]
  },
  {
   "cell_type": "code",
   "execution_count": null,
   "metadata": {
    "collapsed": true
   },
   "outputs": [],
   "source": []
  }
 ],
 "metadata": {
  "kernelspec": {
   "display_name": "Python 3",
   "language": "python",
   "name": "python3"
  },
  "language_info": {
   "codemirror_mode": {
    "name": "ipython",
    "version": 3
   },
   "file_extension": ".py",
   "mimetype": "text/x-python",
   "name": "python",
   "nbconvert_exporter": "python",
   "pygments_lexer": "ipython3",
   "version": "3.6.1"
  }
 },
 "nbformat": 4,
 "nbformat_minor": 2
}
