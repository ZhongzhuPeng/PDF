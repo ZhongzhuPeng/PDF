{
 "cells": [
  {
   "cell_type": "code",
   "execution_count": 2,
   "metadata": {
    "collapsed": false,
    "scrolled": true
   },
   "outputs": [],
   "source": [
    "from pdfminer.pdfinterp import PDFResourceManager, PDFPageInterpreter\n",
    "from pdfminer.converter import TextConverter, HTMLConverter\n",
    "from pdfminer.layout import LAParams\n",
    "from pdfminer.pdfpage import PDFPage\n",
    "from cStringIO import StringIO\n",
    "\n",
    "\n",
    "def convert_pdf_to_txt(path):\n",
    "    rsrcmgr = PDFResourceManager()\n",
    "    retstr = StringIO()\n",
    "    codec = 'utf-8'\n",
    "    laparams = LAParams()\n",
    "    device = HTMLConverter(rsrcmgr, retstr, codec=codec, laparams=laparams)\n",
    "    fp = file(path, 'rb')\n",
    "    interpreter = PDFPageInterpreter(rsrcmgr, device)\n",
    "    password = \"\"\n",
    "    maxpages = 0\n",
    "    caching = True\n",
    "    pagenos=set()\n",
    "\n",
    "    for page in PDFPage.get_pages(fp, pagenos, maxpages=maxpages, password=password,caching=caching, check_extractable=True):\n",
    "        interpreter.process_page(page)\n",
    "        break\n",
    "\n",
    "    text = retstr.getvalue()\n",
    "\n",
    "    fp.close()\n",
    "    device.close()\n",
    "    retstr.close()\n",
    "    return text\n",
    "\n",
    "path = '/home/zhongzhu/Desktop/Project2/Test/Seattle.pdf'\n",
    "f = open('/home/zhongzhu/Desktop/Project2/Test/pos_extracted2', 'w')\n",
    "f.write(convert_pdf_to_txt(path))\n",
    "f.close()"
   ]
  },
  {
   "cell_type": "code",
   "execution_count": 26,
   "metadata": {
    "collapsed": false,
    "scrolled": true
   },
   "outputs": [
    {
     "name": "stdout",
     "output_type": "stream",
     "text": [
      " No preparatory or initial inspections were held today\n",
      "('85', '462', '202', '10')\n",
      " No QC requirements were completed today\n",
      "('85', '522', '167', '10')\n",
      "Asbestos Abatement\n",
      "('95', '641', '92', '37')\n",
      " No QC Punch List items were issued today\n",
      "('85', '553', '164', '24')\n",
      " Page 1 of 2\n",
      "('494', '113', '38', '10')\n",
      " ACTIVITY START/FINISH\n",
      "('75', '479', '89', '10')\n",
      "Worked\n",
      "('508', '631', '26', '20')\n",
      "Held demo prep meeting today with AAI.  See attached minutes of meeting.  Will start next week with demo.  They brought new \n",
      "('95', '396', '427', '27')\n",
      "None today * *\n",
      "('95', '370', '101', '18')\n",
      " CONTRACTORS ON SITE (Report first and/or last day contractors were on site)\n",
      "('75', '583', '276', '10')\n",
      " REMARKS\n",
      "('95', '328', '59', '18')\n",
      "DATE\n",
      "('417', '113', '16', '22')\n",
      " No activities were started or finished today\n",
      "('85', '492', '165', '10')\n",
      " CONTRACTORS QUALITY CONTROL REPORT (QCR)\n",
      "('123', '110', '227', '12')\n",
      " (Describe QC Punch List items issued, Report QC and QA Punch List items corrected)\n",
      "('170', '540', '290', '10')\n",
      " The following labor hours were Reported today:\n",
      "('85', '628', '189', '50')\n",
      " DACA67-02-D-2012  0004\n",
      "('424', '159', '89', '10')\n",
      " (Preparatory and initial dates held and advance notice)\n",
      "('170', '448', '185', '10')\n",
      "None today\n",
      "('95', '277', '158', '18')\n",
      " WEATHER\n",
      "('319', '174', '203', '28')\n",
      "Labor Classification\n",
      "('85', '628', '189', '50')\n",
      " Hours\n",
      "('508', '631', '26', '20')\n",
      " General Comments:\n",
      "('85', '267', '78', '10')\n",
      " 0.0\n",
      "('532', '654', '10', '20')\n",
      "0.0 * *\n",
      "('441', '631', '36', '44')\n",
      "Weather Caused No Delay\n",
      "('319', '174', '203', '28')\n",
      " DAILY CONTROL INSPECTIONS AND RESULTS\n",
      "('95', '277', '158', '18')\n",
      "0.0\n",
      "('85', '628', '189', '50')\n",
      "Worked on shutting down water and removing refrigerators\n",
      "('95', '235', '199', '18')\n",
      " LABOR HOURS\n",
      "('75', '614', '53', '10')\n",
      " PROJECT\n",
      "('75', '151', '30', '8')\n",
      "Temperature Min 21 °F, Max 44 °F No Precipitation No Wind\n",
      "('319', '174', '203', '28')\n",
      " DAILY SAFETY INSPECTIONS\n",
      "('95', '370', '101', '18')\n",
      " No contractors had their first or last day on site today\n",
      "('85', '597', '206', '10')\n",
      " Activities in Progress:\n",
      "('85', '225', '86', '10')\n",
      "Employees\n",
      "('441', '631', '36', '44')\n",
      " REPORT NUMBER\n",
      "('417', '106', '56', '8')\n",
      "Total hours worked to date:\n",
      "('95', '641', '92', '37')\n",
      " CONTRACTOR\n",
      "('75', '174', '45', '8')\n",
      " D/B Replace Military Family Housing P5\n",
      "('82', '159', '130', '10')\n",
      "None today *\n",
      "('95', '303', '152', '18')\n",
      " PREP/INITIAL DATES\n",
      "('75', '448', '74', '10')\n",
      "No remarks today\n",
      "('95', '328', '59', '18')\n",
      " Total\n",
      "('417', '665', '16', '10')\n",
      " DAILY LOG OF CONSTRUCTION - MILITARY\n",
      "('137', '123', '192', '12')\n",
      "OPERATING ENGINEER\n",
      "('85', '628', '189', '50')\n",
      " No equipment hours were Reported today\n",
      "('85', '699', '162', '10')\n",
      " CONTRACT NUMBER\n",
      "('417', '151', '65', '8')\n",
      " Total operating hours to date: 0.0\n",
      "('95', '712', '112', '10')\n",
      " QUALITY CONTROL TESTING AND RESULTS\n",
      "('95', '303', '152', '18')\n",
      " QA/QC PUNCH LIST\n",
      "('75', '539', '70', '10')\n",
      " QC REQUIREMENTS\n",
      "('75', '509', '70', '10')\n",
      "0.0 * * *\n",
      "('532', '654', '10', '20')\n",
      " Evergreene Construction, L.C.\n",
      "('82', '182', '102', '10')\n",
      " AAI\n",
      "('95', '235', '199', '18')\n",
      " 01 Nov 2004 - Monday\n",
      "('424', '136', '76', '10')\n",
      " Employer\n",
      "('95', '641', '92', '37')\n",
      "No Punch List items were corrected today\n",
      "('85', '553', '164', '24')\n",
      " Number of\n",
      "('441', '631', '36', '44')\n",
      " Safety Inspection / Safety Meetings:\n",
      "('85', '360', '138', '10')\n",
      "license, number was okay by Jim LaFluer.\n",
      "('95', '396', '427', '27')\n",
      " PREPARATORY AND/OR INITIALS HELD TODAY\n",
      "('95', '396', '427', '27')\n",
      " QC NARRATIVES\n",
      "('75', '208', '61', '10')\n",
      " 91\n",
      "('417', '113', '16', '22')\n",
      " EQUIPMENT HOURS\n",
      "('75', '685', '70', '10')\n",
      "0.0 *\n",
      "('441', '631', '36', '44')\n"
     ]
    }
   ],
   "source": [
    "import re\n",
    "\n",
    "fp = '/home/zhongzhu/Desktop/Project2/Test/pos_extracted2'\n",
    "file = open(fp, 'r')\n",
    "boxes = file.read().split('TEXT_BOX')\n",
    "\n",
    "contents = {}\n",
    "for content in boxes:\n",
    "    c = content.split(';')\n",
    "    if(c[0].find('left:') > 0): #if not empty\n",
    "        l = c[0][c[0].find('left:')+5:c[0].find('px')]\n",
    "        t = c[1][c[1].find('top:')+4:c[1].find('px')]\n",
    "        w = c[2][c[2].find('width:')+6:c[2].find('px')]\n",
    "        h = c[3][c[3].find('height:')+7:c[3].find('px')]\n",
    "        \n",
    "        text = \"\".join(c[4:])\n",
    "        lines = text.split('\\n')\n",
    "        for line in lines:\n",
    "            while line in contents:\n",
    "                line = line + \" *\"\n",
    "            if re.search(r'[A-Za-z0-9,.?!]', line):\n",
    "                contents[line.decode('utf-8')] = (l, t, w, h)\n",
    "#print contents\n",
    "for pos in contents:\n",
    "    print(pos)\n",
    "    print(contents[pos])"
   ]
  },
  {
   "cell_type": "code",
   "execution_count": 27,
   "metadata": {
    "collapsed": false
   },
   "outputs": [],
   "source": [
    "from itertools import product\n",
    "neighbors = {}\n",
    "    \n",
    "for line1, line2 in product(contents, contents):\n",
    "    if(line1 != line2\n",
    "       and abs(int(contents[line1][0])-int(contents[line2][0]))<30\n",
    "       and abs(int(contents[line1][1])-int(contents[line2][1]))<30):\n",
    "        key = line1\n",
    "        value = line2\n",
    "        if not key in neighbors:\n",
    "            neighbors[key] = []\n",
    "        neighbors[key].append(value)"
   ]
  },
  {
   "cell_type": "code",
   "execution_count": null,
   "metadata": {
    "collapsed": false
   },
   "outputs": [],
   "source": []
  },
  {
   "cell_type": "code",
   "execution_count": null,
   "metadata": {
    "collapsed": true
   },
   "outputs": [],
   "source": []
  },
  {
   "cell_type": "code",
   "execution_count": 45,
   "metadata": {
    "collapsed": false
   },
   "outputs": [],
   "source": [
    "import Tkinter as tk\n",
    "import ttk\n",
    "\n",
    "win = tk.Tk()\n",
    "win.title(\"Set Pairs\")   \n",
    "\n",
    "ttk.Label(win, text=\"Select category:\").grid(column=0, row=0)   \n",
    "ttk.Label(win, text=\"Bind content\").grid(column=2, row=0)      \n",
    "\n",
    "\n",
    "def select():\n",
    "    dropdown2['values'] = neighbors[category.get()]  \n",
    "    dropdown2.current(0)    \n",
    "    \n",
    "# selecte button\n",
    "action = ttk.Button(win, text=\"Select\", command=select)\n",
    "action.grid(column=1, row=1)   \n",
    "\n",
    "pairs = {}\n",
    "# \n",
    "def bind():   \n",
    "    key = contents[category.get()]\n",
    "    new_value = contents[content.get()]\n",
    "    if not key in pairs:\n",
    "        pairs[key] = set([])\n",
    "    pairs[key].add(new_value)\n",
    "    dropdown2.current(0) \n",
    "    \n",
    "\n",
    "# bind button\n",
    "action = ttk.Button(win, text=\"Bind\", command=bind)\n",
    "action.grid(column=3, row=1) \n",
    "\n",
    "# creat a drop-down list\n",
    "category = tk.StringVar()\n",
    "dropdown1 = ttk.Combobox(win, width=60, height=20, textvariable=category)\n",
    "dropdown1['values'] = list(neighbors.keys())     \n",
    "dropdown1.grid(column=0, row=1)      \n",
    "#dropdown1.current(0) \n",
    "\n",
    "# create another drop-down list\n",
    "content = tk.StringVar()\n",
    "dropdown2 = ttk.Combobox(win, width=60, textvariable=content)    \n",
    "dropdown2.grid(column=2, row=1)        \n",
    "\n",
    "win.mainloop()      # window"
   ]
  },
  {
   "cell_type": "code",
   "execution_count": 32,
   "metadata": {
    "collapsed": false
   },
   "outputs": [
    {
     "name": "stdout",
     "output_type": "stream",
     "text": [
      "('85', '360', '138', '10')\n",
      "set([('95', '370', '101', '18')])\n",
      "('95', '396', '427', '27')\n",
      "set([('95', '396', '427', '27'), ('95', '370', '101', '18')])\n",
      "('123', '110', '227', '12')\n",
      "set([('137', '123', '192', '12')])\n",
      "('95', '235', '199', '18')\n",
      "set([('75', '208', '61', '10'), ('85', '225', '86', '10')])\n"
     ]
    }
   ],
   "source": [
    "for i in pairs:\n",
    "    print i\n",
    "    print pairs[i]"
   ]
  },
  {
   "cell_type": "code",
   "execution_count": 20,
   "metadata": {
    "collapsed": false
   },
   "outputs": [
    {
     "name": "stdout",
     "output_type": "stream",
     "text": [
      "a\n"
     ]
    }
   ],
   "source": [
    "pairs[(1, 2)] = 'a'\n",
    "print pairs[(1, 2)]"
   ]
  },
  {
   "cell_type": "code",
   "execution_count": null,
   "metadata": {
    "collapsed": true
   },
   "outputs": [],
   "source": []
  },
  {
   "cell_type": "code",
   "execution_count": 4,
   "metadata": {
    "collapsed": false
   },
   "outputs": [
    {
     "ename": "NameError",
     "evalue": "name 'convert_pdf_to_txt' is not defined",
     "output_type": "error",
     "traceback": [
      "\u001b[0;31m---------------------------------------------------------------------------\u001b[0m",
      "\u001b[0;31mNameError\u001b[0m                                 Traceback (most recent call last)",
      "\u001b[0;32m<ipython-input-4-ec25d5b5cf98>\u001b[0m in \u001b[0;36m<module>\u001b[0;34m()\u001b[0m\n\u001b[1;32m      1\u001b[0m \u001b[0mpath\u001b[0m \u001b[0;34m=\u001b[0m \u001b[0;34m'/home/zhongzhu/Desktop/Project/Test/test.pdf'\u001b[0m\u001b[0;34m\u001b[0m\u001b[0m\n\u001b[0;32m----> 2\u001b[0;31m \u001b[0;32mprint\u001b[0m \u001b[0mconvert_pdf_to_txt\u001b[0m\u001b[0;34m(\u001b[0m\u001b[0mpath\u001b[0m\u001b[0;34m)\u001b[0m\u001b[0;34m\u001b[0m\u001b[0m\n\u001b[0m",
      "\u001b[0;31mNameError\u001b[0m: name 'convert_pdf_to_txt' is not defined"
     ]
    }
   ],
   "source": []
  },
  {
   "cell_type": "code",
   "execution_count": null,
   "metadata": {
    "collapsed": true
   },
   "outputs": [],
   "source": []
  }
 ],
 "metadata": {
  "kernelspec": {
   "display_name": "Python 2",
   "language": "python",
   "name": "python2"
  },
  "language_info": {
   "codemirror_mode": {
    "name": "ipython",
    "version": 2
   },
   "file_extension": ".py",
   "mimetype": "text/x-python",
   "name": "python",
   "nbconvert_exporter": "python",
   "pygments_lexer": "ipython2",
   "version": "2.7.13"
  }
 },
 "nbformat": 4,
 "nbformat_minor": 2
}
