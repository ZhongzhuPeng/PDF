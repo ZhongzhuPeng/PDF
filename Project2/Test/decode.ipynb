{
 "cells": [
  {
   "cell_type": "code",
   "execution_count": 1,
   "metadata": {
    "collapsed": false
   },
   "outputs": [],
   "source": [
    "path1 = '/home/zhongzhu/Desktop/Project2/Test/Seattle.pdf'\n",
    "f = open(path1, 'r')"
   ]
  },
  {
   "cell_type": "code",
   "execution_count": 2,
   "metadata": {
    "collapsed": false
   },
   "outputs": [],
   "source": [
    "import re\n",
    "\n",
    "f = open(path1,'r')\n",
    "data = f.read()\n",
    "#obj_ls = data.split('endobj')\n",
    "obj_ls = re.findall(r'\\d+ \\d+ obj.*?endobj', data, re.DOTALL)\n",
    "f.close()"
   ]
  },
  {
   "cell_type": "code",
   "execution_count": 3,
   "metadata": {
    "collapsed": false
   },
   "outputs": [
    {
     "name": "stdout",
     "output_type": "stream",
     "text": [
      "4305\n",
      "4295\n",
      "4296\n",
      "4297\n",
      "4298\n",
      "4299\n",
      "4300\n",
      "4301\n",
      "4302\n",
      "4303\n",
      "4304\n",
      "2\n",
      "4\n",
      "6\n",
      "8\n",
      "10\n",
      "12\n",
      "14\n",
      "16\n",
      "18\n",
      "20\n",
      "22\n",
      "24\n",
      "26\n",
      "28\n",
      "30\n",
      "32\n",
      "34\n",
      "36\n",
      "38\n",
      "40\n",
      "42\n",
      "44\n",
      "46\n",
      "48\n",
      "50\n",
      "52\n",
      "54\n",
      "56\n",
      "58\n",
      "60\n",
      "62\n",
      "64\n",
      "66\n",
      "68\n",
      "70\n",
      "72\n",
      "74\n",
      "76\n",
      "78\n",
      "80\n"
     ]
    }
   ],
   "source": [
    "from subprocess import call\n",
    "import os\n",
    "\n",
    "for i, obj in enumerate(obj_ls):\n",
    "    if i > 100:\n",
    "        break;\n",
    "    if 'stream' in obj:\n",
    "        num = obj[:obj.find('obj')]\n",
    "        \n",
    "        num = num.split()\n",
    "        try:\n",
    "            os.system('./pdf-parser.py -o %d -f -d ./decoded/obj%d.dump Seattle.pdf' % (int(num[0]), int(num[0])))\n",
    "            print num[0]\n",
    "        except:\n",
    "            print num[0]+' exception'"
   ]
  },
  {
   "cell_type": "code",
   "execution_count": 4,
   "metadata": {
    "collapsed": false,
    "scrolled": true
   },
   "outputs": [],
   "source": [
    "#x = re.findall(r'stream(.*?)endstream',data, re.DOTALL)"
   ]
  },
  {
   "cell_type": "code",
   "execution_count": 5,
   "metadata": {
    "collapsed": false
   },
   "outputs": [
    {
     "name": "stdout",
     "output_type": "stream",
     "text": [
      "error!!!!!!\n",
      "<closed file '/home/zhongzhu/Desktop/Project2/Test/decoded/obj4299.dump', mode 'r' at 0x7f6f32e00ed0>\n",
      "['75.12 292.98 Tm', '12.27 0.031 Td']\n",
      "['[(Q)-37(A)-93(/)-81(Q)-37(C)-93( P)-63(UNC)-93(H )-8(L)-111(I)-81(S)-55(T)]']\n",
      "error!!!!!!\n",
      "<closed file '/home/zhongzhu/Desktop/Project2/Test/decoded/obj4295.dump', mode 'r' at 0x7f6f32e00ed0>\n",
      "['123.78 720.36 Tm', '1.46 -1.388 Td', '417.06 728.04 Tm', '0 -3.328 TD', '-53.774 -3.669 Td', '53.774 0 Td', '424.14 719.82 Tm', '0 -3.002 TD', '0 -2.909 TD']\n",
      "['[(C)7(O)-23(NT)-32(R)7(ACT)-32(O)-23(R)7(S)-55( Q)-23(U)7(AL)-32(I)-58(T)-32(Y)24( CO)-16(NT)-32(RO)-16(L)-32( RE)24(P)-55(O)-16(RT)-32( \\\\(Q)-23(CR)7(\\\\))]', '[(D)33(A)39(I)-25(L)-6(Y)56( LO)17(G)10( O)17(F C)33(O)17(N)33(S)-22(TR)33(U)39(C)33(TI)-25(O)10(N)39( -)30( M)-13(I)-25(LI)-25(TA)33(R)39(Y)]', '[(RE)49(P)58(O)46(RT)106( NU)-9(M)111(B)58(E)49(R)]', '[(DA)49(T)106(E)]', '[(PR)-58(O)-12(J)-53(E)-9(C)-58(T)]', '[(CO)46(NT)106(RA)49(CT)106( NUM)101(B)58(E)49(R)]', '(91)', '[(01)-8( N)73(o)-8(v)-56( )-8(20)-8(04)-8( -)-45( M)91(o)-8(nd)-8(ay)]']\n",
      "error!!!!!!\n",
      "<closed file '/home/zhongzhu/Desktop/Project2/Test/decoded/obj4301.dump', mode 'r' at 0x7f6f32e00ed0>\n",
      "['417.78 167.7601 Tm']\n",
      "[]\n",
      "3\n"
     ]
    }
   ],
   "source": [
    "import re\n",
    "import os\n",
    "\n",
    "directory = '/home/zhongzhu/Desktop/Project2/Test/decoded/'\n",
    "items = {}\n",
    "ls = []\n",
    "count = 0\n",
    "\n",
    "for f in os.listdir(directory):\n",
    "    f = open(directory + f)\n",
    "    stream = f.read()\n",
    "    f.close()\n",
    "\n",
    "    startPos = stream.find('BT')+2\n",
    "    endPos = stream.find('ET')\n",
    "    while(startPos > 2):\n",
    "        T=stream[startPos:endPos]\n",
    "        coord = re.findall(r\"([-+]?\\d*\\.?\\d+ [-+]?\\d*\\.?\\d+[\\s]*T[D|d|m|M])|T[\\*]\", T)\n",
    "        text = re.findall(r\"(\\[?.*\\]?)\\s?T[J|j]\", T)\n",
    "        \n",
    "        if len(coord) != len(text):\n",
    "            print 'error!!!!!!'\n",
    "            print f\n",
    "            count += 1\n",
    "            print (coord)\n",
    "            print (text)\n",
    "        for c, t in zip(coord, text):\n",
    "            t = re.findall(r'\\((.*?)\\)',t)\n",
    "            t = ''.join(t)\n",
    "            if t not in items:\n",
    "                items[t] = [c]\n",
    "                ls.append(t)\n",
    "            else:\n",
    "                items[t].append(c);\n",
    "    \n",
    "        startPos = stream.find('BT', startPos)+2\n",
    "        endPos = stream.find('ET', startPos)\n",
    "        \n",
    "        \n",
    "print count"
   ]
  },
  {
   "cell_type": "code",
   "execution_count": 7,
   "metadata": {
    "collapsed": false,
    "scrolled": true
   },
   "outputs": [
    {
     "name": "stdout",
     "output_type": "stream",
     "text": [
      "CONTRACTORS QUALITY CONTROL REPORT \\(QCR\\:\t\t[247.56, 1440.72]\n",
      "DAILY LOG OF CONSTRUCTION - MILITARY:\t\t[250.48, 1517.944]\n",
      "REPORT NUMBER:\t\t[834.12, 1456.08]\n",
      "DATE:\t\t[834.12, 1422.8]\n",
      "PROJECT:\t\t[726.572, 1388.838]\n",
      "CONTRACT NUMBER:\t\t[834.12, 1362.214]\n",
      "DACA67-02-D-2012  0004:\t\t[848.28, 1380.5300000000002]\n",
      "D/B Replace Military Family Housing P5:\t\t[760.088, 1357.2580000000003]\n",
      "QA/QC PUNCH LIST:\t\t[150.24, 1310.76]\n",
      "\\(Describe QC Punch List items issued, Report QC and QA Punch List items corrected\\:\t\t[174.78, 1287.55]\n",
      "No QC Punch List items were issued today:\t\t[152.964, 1260.58]\n",
      "No Punch List items were corrected today:\t\t[152.964, 1243.33]\n",
      "CONTRACTORS ON SITE:\t\t[150.24, 1221.96]\n",
      "\\(Report first and/or last day contractors were on site\\:\t\t[174.78, 1208.222]\n",
      "No contractors had their first or last day on site today:\t\t[152.964, 1190.91]\n",
      "LABOR HOURS:\t\t[150.24, 1161.3602]\n",
      "2.0:\t\t[286.25199999999995, 1022.2620000000002]\n",
      "EQUIPMENT HOURS:\t\t[150.24, 958.32]\n",
      "0.0:\t\t[286.25, 849.3600000000001]\n",
      "10.0:\t\t[302.604, 835.5600000000002]\n",
      "ACCIDENT REPORTING:\t\t[150.24, 694.56]\n",
      "\\(Describe accidents\\:\t\t[174.78, 680.8219999999999]\n",
      "No accidents reported today:\t\t[152.964, 663.5099999999999]\n",
      "CONTRACTOR CERTIFICATION:\t\t[143.16, 237.72]\n",
      "On behalf of the contractor, I certify that this Report is complete and correct and all equipment and:\t\t[367.44, 237.72]\n",
      "material used and work performed during this Reporting period are in compliance with the contract:\t\t[367.44, 223.18]\n",
      "plans and specifications, to the best of my knowledge, except as noted above.:\t\t[367.44, 199.916]\n",
      "QC REPRESENTATIVE'S SIGNATURE:\t\t[143.16, 163.08]\n",
      "DATESUPERINTENDENT'S INITIALSDATE:\t\t[209.386, 151.882]\n",
      "CONTRACTOR:\t\t[151.68, 1320.72]\n",
      "WEATHER:\t\t[228.346, 1297.448]\n",
      "Weather Caused No Delay:\t\t[638.16, 1301.4002]\n",
      "Evergreene Construction, L.C.:\t\t[577.06, 1281.0962]\n",
      "QC NARRATIVES:\t\t[575.25, 1264.1522]\n",
      "General Comments::\t\t[577.974, 1123.8402]\n",
      "None today:\t\t[580.5260000000001, 1095.1802000000002]\n",
      "QUALITY CONTROL TESTING AND RESULTS:\t\t[580.5260000000001, 1073.3602000000003]\n",
      "REMARKS:\t\t[580.5260000000001, 1040.6302000000003]\n",
      "Safety Inspection / Safety Meetings::\t\t[577.974, 1012.5602000000002]\n",
      "PREPARATORY AND/OR INITIALS HELD TODAY:\t\t[580.5260000000001, 962.0642000000001]\n",
      "CONTRACTORS FIRST AND/OR LAST DAY ONSITE:\t\t[580.5260000000001, 929.3342000000001]\n",
      "PREP/INITIAL DATES:\t\t[150.24, 566.28]\n",
      "\\(Preparatory and initial dates held and advance notice\\:\t\t[174.78, 557.6139999999999]\n",
      "No preparatory or initial inspections were held today:\t\t[152.964, 545.1879999999999]\n",
      "ACTIVITY START/FINISH:\t\t[150.24, 504.2402]\n",
      "QC REQUIREMENTS:\t\t[150.24, 443.6402]\n",
      "No QC requirements were completed today:\t\t[152.964, 431.4462]\n",
      "Page 1 of 2:\t\t[989.28, 1439.64]\n"
     ]
    }
   ],
   "source": [
    "for i in ls:\n",
    "    if len(items[i]) >= 20:\n",
    "        print i + \":\\t\\t\" + str(items[i][0])"
   ]
  },
  {
   "cell_type": "code",
   "execution_count": null,
   "metadata": {
    "collapsed": true
   },
   "outputs": [],
   "source": []
  },
  {
   "cell_type": "code",
   "execution_count": null,
   "metadata": {
    "collapsed": true
   },
   "outputs": [],
   "source": []
  },
  {
   "cell_type": "code",
   "execution_count": null,
   "metadata": {
    "collapsed": true
   },
   "outputs": [],
   "source": []
  },
  {
   "cell_type": "code",
   "execution_count": null,
   "metadata": {
    "collapsed": true
   },
   "outputs": [],
   "source": []
  },
  {
   "cell_type": "markdown",
   "metadata": {},
   "source": [
    "# Test"
   ]
  },
  {
   "cell_type": "code",
   "execution_count": 1,
   "metadata": {
    "collapsed": false
   },
   "outputs": [
    {
     "name": "stdout",
     "output_type": "stream",
     "text": [
      "error!!!!!!\n",
      "<closed file '/home/zhongzhu/Desktop/Project2/Test/decoded/obj4299.dump', mode 'r' at 0x7f1eb3c79e40>\n",
      "['75.12 292.98 Tm', '12.27 0.031 Td']\n",
      "['[(Q)-37(A)-93(/)-81(Q)-37(C)-93( P)-63(UNC)-93(H )-8(L)-111(I)-81(S)-55(T)]']\n",
      "error!!!!!!\n",
      "<closed file '/home/zhongzhu/Desktop/Project2/Test/decoded/obj4295.dump', mode 'r' at 0x7f1eb3c79e40>\n",
      "['123.78 720.36 Tm', '1.46 -1.388 Td', '417.06 728.04 Tm', '0 -3.328 TD', '-53.774 -3.669 Td', '53.774 0 Td', '424.14 719.82 Tm', '0 -3.002 TD', '0 -2.909 TD']\n",
      "['[(C)7(O)-23(NT)-32(R)7(ACT)-32(O)-23(R)7(S)-55( Q)-23(U)7(AL)-32(I)-58(T)-32(Y)24( CO)-16(NT)-32(RO)-16(L)-32( RE)24(P)-55(O)-16(RT)-32( \\\\(Q)-23(CR)7(\\\\))]', '[(D)33(A)39(I)-25(L)-6(Y)56( LO)17(G)10( O)17(F C)33(O)17(N)33(S)-22(TR)33(U)39(C)33(TI)-25(O)10(N)39( -)30( M)-13(I)-25(LI)-25(TA)33(R)39(Y)]', '[(RE)49(P)58(O)46(RT)106( NU)-9(M)111(B)58(E)49(R)]', '[(DA)49(T)106(E)]', '[(PR)-58(O)-12(J)-53(E)-9(C)-58(T)]', '[(CO)46(NT)106(RA)49(CT)106( NUM)101(B)58(E)49(R)]', '(91)', '[(01)-8( N)73(o)-8(v)-56( )-8(20)-8(04)-8( -)-45( M)91(o)-8(nd)-8(ay)]']\n",
      "error!!!!!!\n",
      "<closed file '/home/zhongzhu/Desktop/Project2/Test/decoded/obj4301.dump', mode 'r' at 0x7f1eb3c79e40>\n",
      "['417.78 167.7601 Tm']\n",
      "[]\n",
      "3\n"
     ]
    }
   ],
   "source": [
    "import re\n",
    "import os\n",
    "\n",
    "directory = '/home/zhongzhu/Desktop/Project2/Test/decoded/'\n",
    "items = {}\n",
    "ls = []\n",
    "count = 0\n",
    "\n",
    "\n",
    "tl = 20\n",
    "curPos = [0,0]\n",
    "for f in os.listdir(directory):\n",
    "\n",
    "    f = open(directory + f)\n",
    "    stream = f.read()\n",
    "    f.close()\n",
    "    startPos = stream.find('BT')+2\n",
    "    endPos = stream.find('ET')\n",
    "    while(startPos > 2):\n",
    "        T=stream[startPos:endPos]\n",
    "        coord = re.findall(r\"([-+]?\\d*\\.?\\d+ [-+]?\\d*\\.?\\d+[\\s]*T[D|d|m|M])|T[\\*]\", T)\n",
    "        text = re.findall(r\"(\\[?.*\\]?)\\s?T[J|j]\", T)\n",
    "        \n",
    "        if len(coord) != len(text):\n",
    "            print 'error!!!!!!'\n",
    "            print f\n",
    "            count += 1\n",
    "            print (coord)\n",
    "            print (text)\n",
    "            \n",
    "        for c, t in zip(coord, text):\n",
    "            \n",
    "            pos = c.split()\n",
    "            if len(pos) > 0:\n",
    "                if re.match(r'T[m|M]', pos[-1]):\n",
    "                    curPos[0] = 2*float(pos[0])\n",
    "                    curPos[1] = 2*float(pos[1])\n",
    "                elif re.match(r'Td', pos[-1]):\n",
    "                    curPos[0] += 2*float(pos[0])\n",
    "                    curPos[1] += 2*float(pos[1]) + 4*tl\n",
    "                elif re.match(r'TD', pos[-1]):\n",
    "                    tl = 2*float(pos[1])\n",
    "                    curPos[0] += 2*float(pos[0])\n",
    "                    curPos[1] += 2*float(pos[1]) + 4*tl\n",
    "            else :\n",
    "                curPos[1] += 8*tl\n",
    "            \n",
    "            t = re.findall(r'\\((.*?)\\)',t)\n",
    "            t = ''.join(t)\n",
    "            if t not in items:\n",
    "                items[t] = []\n",
    "                items[t].append(curPos[0:2])\n",
    "                ls.append(t)\n",
    "            else:\n",
    "                items[t].append(curPos[0:2])\n",
    "    \n",
    "        startPos = stream.find('BT', startPos)+2\n",
    "        endPos = stream.find('ET', startPos)\n",
    "        \n",
    "        \n",
    "print count"
   ]
  },
  {
   "cell_type": "code",
   "execution_count": 2,
   "metadata": {
    "collapsed": false,
    "scrolled": true
   },
   "outputs": [
    {
     "name": "stdout",
     "output_type": "stream",
     "text": [
      "CONTRACTORS QUALITY CONTROL REPORT \\(QCR\\:\t\t[247.56, 1440.72]\n",
      "DAILY LOG OF CONSTRUCTION - MILITARY:\t\t[250.48, 1517.944]\n",
      "REPORT NUMBER:\t\t[834.12, 1456.08]\n",
      "DATE:\t\t[834.12, 1422.8]\n",
      "PROJECT:\t\t[726.572, 1388.838]\n",
      "CONTRACT NUMBER:\t\t[834.12, 1362.214]\n",
      "DACA67-02-D-2012  0004:\t\t[848.28, 1380.5300000000002]\n",
      "D/B Replace Military Family Housing P5:\t\t[760.088, 1357.2580000000003]\n",
      "QA/QC PUNCH LIST:\t\t[150.24, 1310.76]\n",
      "\\(Describe QC Punch List items issued, Report QC and QA Punch List items corrected\\:\t\t[174.78, 1287.55]\n",
      "No QC Punch List items were issued today:\t\t[152.964, 1260.58]\n",
      "No Punch List items were corrected today:\t\t[152.964, 1243.33]\n",
      "CONTRACTORS ON SITE:\t\t[150.24, 1221.96]\n",
      "\\(Report first and/or last day contractors were on site\\:\t\t[174.78, 1208.222]\n",
      "No contractors had their first or last day on site today:\t\t[152.964, 1190.91]\n",
      "LABOR HOURS:\t\t[150.24, 1161.3602]\n",
      "2.0:\t\t[286.25199999999995, 1022.2620000000002]\n",
      "EQUIPMENT HOURS:\t\t[150.24, 958.32]\n",
      "0.0:\t\t[286.25, 849.3600000000001]\n",
      "10.0:\t\t[302.604, 835.5600000000002]\n",
      "ACCIDENT REPORTING:\t\t[150.24, 694.56]\n",
      "\\(Describe accidents\\:\t\t[174.78, 680.8219999999999]\n",
      "No accidents reported today:\t\t[152.964, 663.5099999999999]\n",
      "CONTRACTOR CERTIFICATION:\t\t[143.16, 237.72]\n",
      "On behalf of the contractor, I certify that this Report is complete and correct and all equipment and:\t\t[367.44, 237.72]\n",
      "material used and work performed during this Reporting period are in compliance with the contract:\t\t[367.44, 223.18]\n",
      "plans and specifications, to the best of my knowledge, except as noted above.:\t\t[367.44, 199.916]\n",
      "QC REPRESENTATIVE'S SIGNATURE:\t\t[143.16, 163.08]\n",
      "DATESUPERINTENDENT'S INITIALSDATE:\t\t[209.386, 151.882]\n",
      "CONTRACTOR:\t\t[151.68, 1320.72]\n",
      "WEATHER:\t\t[228.346, 1297.448]\n",
      "Weather Caused No Delay:\t\t[638.16, 1301.4002]\n",
      "Evergreene Construction, L.C.:\t\t[577.06, 1281.0962]\n",
      "QC NARRATIVES:\t\t[575.25, 1264.1522]\n",
      "General Comments::\t\t[577.974, 1123.8402]\n",
      "None today:\t\t[580.5260000000001, 1095.1802000000002]\n",
      "QUALITY CONTROL TESTING AND RESULTS:\t\t[580.5260000000001, 1073.3602000000003]\n",
      "REMARKS:\t\t[580.5260000000001, 1040.6302000000003]\n",
      "Safety Inspection / Safety Meetings::\t\t[577.974, 1012.5602000000002]\n",
      "PREPARATORY AND/OR INITIALS HELD TODAY:\t\t[580.5260000000001, 962.0642000000001]\n",
      "CONTRACTORS FIRST AND/OR LAST DAY ONSITE:\t\t[580.5260000000001, 929.3342000000001]\n",
      "PREP/INITIAL DATES:\t\t[150.24, 566.28]\n",
      "\\(Preparatory and initial dates held and advance notice\\:\t\t[174.78, 557.6139999999999]\n",
      "No preparatory or initial inspections were held today:\t\t[152.964, 545.1879999999999]\n",
      "ACTIVITY START/FINISH:\t\t[150.24, 504.2402]\n",
      "QC REQUIREMENTS:\t\t[150.24, 443.6402]\n",
      "No QC requirements were completed today:\t\t[152.964, 431.4462]\n",
      "Page 1 of 2:\t\t[989.28, 1439.64]\n"
     ]
    }
   ],
   "source": [
    "for i in ls:\n",
    "    if len(items[i]) >= 20:\n",
    "        print i + \":\\t\\t\" + str(items[i][0])"
   ]
  },
  {
   "cell_type": "code",
   "execution_count": 8,
   "metadata": {
    "collapsed": false,
    "scrolled": true
   },
   "outputs": [
    {
     "name": "stdout",
     "output_type": "stream",
     "text": [
      "CONTRACTORS QUALITY CONTROL REPORT \\(QCR\\ ---  247.56 1440.72\n",
      "DAILY LOG OF CONSTRUCTION - MILITARY ---  250.48 1517.944\n",
      "REPORT NUMBER ---  834.12 1456.08\n",
      "DATE ---  834.12 1422.8\n",
      "PROJECT ---  726.572 1388.838\n",
      "CONTRACT NUMBER ---  834.12 1362.214\n",
      "DACA67-02-D-2012  0004 ---  848.28 1380.53\n",
      "D/B Replace Military Family Housing P5 ---  760.088 1357.258\n",
      "QA/QC PUNCH LIST ---  150.24 1310.76\n",
      "\\(Describe QC Punch List items issued, Report QC and QA Punch List items corrected\\ ---  174.78 1287.55\n",
      "No QC Punch List items were issued today ---  152.964 1260.58\n",
      "No Punch List items were corrected today ---  152.964 1243.33\n",
      "CONTRACTORS ON SITE ---  150.24 1221.96\n",
      "\\(Report first and/or last day contractors were on site\\ ---  174.78 1208.222\n",
      "No contractors had their first or last day on site today ---  152.964 1190.91\n",
      "LABOR HOURS ---  150.24 1161.3602\n",
      "2.0 ---  286.252 1022.262\n",
      "EQUIPMENT HOURS ---  150.24 958.32\n",
      "0.0 ---  286.25 849.36\n",
      "10.0 ---  302.604 835.56\n",
      "ACCIDENT REPORTING ---  150.24 694.56\n",
      "\\(Describe accidents\\ ---  174.78 680.822\n",
      "No accidents reported today ---  152.964 663.51\n",
      "CONTRACTOR CERTIFICATION ---  143.16 237.72\n",
      "On behalf of the contractor, I certify that this Report is complete and correct and all equipment and ---  367.44 237.72\n",
      "material used and work performed during this Reporting period are in compliance with the contract ---  367.44 223.18\n",
      "plans and specifications, to the best of my knowledge, except as noted above. ---  367.44 199.916\n",
      "QC REPRESENTATIVE'S SIGNATURE ---  143.16 163.08\n",
      "DATESUPERINTENDENT'S INITIALSDATE ---  209.386 151.882\n",
      "CONTRACTOR ---  151.68 1320.72\n",
      "WEATHER ---  228.346 1297.448\n",
      "Weather Caused No Delay ---  638.16 1301.4002\n",
      "Evergreene Construction, L.C. ---  577.06 1281.0962\n",
      "QC NARRATIVES ---  575.25 1264.1522\n",
      "General Comments: ---  577.974 1123.8402\n",
      "None today ---  580.526 1095.1802\n",
      "QUALITY CONTROL TESTING AND RESULTS ---  580.526 1073.3602\n",
      "REMARKS ---  580.526 1040.6302\n",
      "Safety Inspection / Safety Meetings: ---  577.974 1012.5602\n",
      "PREPARATORY AND/OR INITIALS HELD TODAY ---  580.526 962.0642\n",
      "CONTRACTORS FIRST AND/OR LAST DAY ONSITE ---  580.526 929.3342\n",
      "PREP/INITIAL DATES ---  150.24 566.28\n",
      "\\(Preparatory and initial dates held and advance notice\\ ---  174.78 557.614\n",
      "No preparatory or initial inspections were held today ---  152.964 545.188\n",
      "ACTIVITY START/FINISH ---  150.24 504.2402\n"
     ]
    }
   ],
   "source": [
    "from PIL import Image\n",
    "from PIL import ImageFont\n",
    "from PIL import ImageDraw \n",
    "\n",
    "img = Image.open(\"2.png\")\n",
    "draw = ImageDraw.Draw(img)\n",
    "# font = ImageFont.truetype(<font-file>, <font-size>)\n",
    "font = ImageFont.truetype(\"obj4304.dump\", 8)\n",
    "# draw.text((x, y),\"Sample Text\",(r,g,b))\n",
    "for n, i in enumerate(ls):\n",
    "    if n > 100:\n",
    "        break\n",
    "    if len(items[i]) >= 20:\n",
    "        draw.text((float(items[i][0][0]), 1500-float(items[i][0][1])),i,(100,100,100), font=font) \n",
    "        print i + \" --- \" + \" \" + str(items[i][0][0]) + \" \" + str(items[i][0][1])\n",
    "#draw.text((0, 0),\"Sample Text\",(25,25,25),font = font)\n",
    "img.save('sample-out.jpg')\n",
    "\n"
   ]
  },
  {
   "cell_type": "code",
   "execution_count": null,
   "metadata": {
    "collapsed": true
   },
   "outputs": [],
   "source": []
  },
  {
   "cell_type": "code",
   "execution_count": null,
   "metadata": {
    "collapsed": true
   },
   "outputs": [],
   "source": []
  },
  {
   "cell_type": "code",
   "execution_count": null,
   "metadata": {
    "collapsed": true
   },
   "outputs": [],
   "source": []
  },
  {
   "cell_type": "code",
   "execution_count": 121,
   "metadata": {
    "collapsed": false
   },
   "outputs": [
    {
     "name": "stdout",
     "output_type": "stream",
     "text": [
      "['123.78 720.36 Tm', '1.46 -1.388 Td', '417.06 728.04 Tm', '0 -3.328 TD', '-53.774 -3.669 Td', '53.774 0 Td', '424.14 719.82 Tm', '0 -3.002 TD', '0 -2.909 TD']\n",
      "------\n",
      "['C', 'O', 'NT', 'R', 'ACT', 'O', 'R', 'S', ' Q', 'U', 'AL', 'I', 'T', 'Y', ' CO', 'NT', 'RO', 'L', ' RE', 'P', 'O', 'RT', ' \\\\(Q', 'CR', '\\\\']\n",
      "======\n",
      "['D', 'A', 'I', 'L', 'Y', ' LO', 'G', ' O', 'F C', 'O', 'N', 'S', 'TR', 'U', 'C', 'TI', 'O', 'N', ' -', ' M', 'I', 'LI', 'TA', 'R', 'Y']\n",
      "======\n",
      "['RE', 'P', 'O', 'RT', ' NU', 'M', 'B', 'E', 'R']\n",
      "======\n",
      "['DA', 'T', 'E']\n",
      "======\n",
      "['PR', 'O', 'J', 'E', 'C', 'T']\n",
      "======\n",
      "['CO', 'NT', 'RA', 'CT', ' NUM', 'B', 'E', 'R']\n",
      "======\n",
      "['91']\n",
      "======\n",
      "['01', ' N', 'o', 'v', ' ', '20', '04', ' -', ' M', 'o', 'nd', 'ay']\n",
      "======\n",
      "['D', 'A', 'C', 'A', '6', '7-', '0', '2-', 'D', '-', '20', '12', '  0', '00', '4']\n",
      "======\n"
     ]
    }
   ],
   "source": [
    "path = '/home/zhongzhu/Desktop/Project2/Test/decoded/obj4295.dump'\n",
    "#files = os.listdir(path)\n",
    "#for f in files:\n",
    "f = open(path)\n",
    "stream = f.read()\n",
    "f.close()\n",
    "\n",
    "#out = open('coord4295', 'w')\n",
    "curX = -1\n",
    "curY = -1\n",
    "\n",
    "startPos = stream.find('BT')+2\n",
    "endPos = stream.find('ET')\n",
    "while(startPos > 2):\n",
    "    text=stream[startPos:endPos]\n",
    "\n",
    "\n",
    "    coord = re.findall(r\"[-+]?\\d*\\.?\\d+ [-+]?\\d*\\.?\\d+[\\s]*T[D|d|m|M]\", text)\n",
    "    print coord\n",
    "    print '------'\n",
    "\n",
    "    t = re.findall(r\"(\\[?.*\\]?)\\s?T[J|j]\", text)\n",
    "    for t2 in t:\n",
    "        t3 = re.findall(r'\\((.*?)\\)',t2)\n",
    "        print t3\n",
    "        print '======'\n",
    "\n",
    "\n",
    "    #coord = text[text.find('Tf')+4:text.find('Tm')]\n",
    "    #t = text[text.find('0 G')+4:text.find('TJ')]\n",
    "    #t = re.findall(r'\\((.*?)\\)',t)\n",
    "\n",
    "    #if abs(curY - float(coord.split(' ')[5])) < 1 or curY < 0:\n",
    "    #    out.write(''.join(t).replace('\\\\', ''))\n",
    "    #else:\n",
    "    #    out.write('\\n'+''.join(t))\n",
    "\n",
    "    #curY = float(coord.split(' ')[5])\n",
    "    startPos = stream.find('BT', startPos)+2\n",
    "    endPos = stream.find('ET', startPos)\n",
    "f.close()\n",
    "#out.close()"
   ]
  },
  {
   "cell_type": "code",
   "execution_count": 14,
   "metadata": {
    "collapsed": false
   },
   "outputs": [
    {
     "data": {
      "text/plain": [
       "['123.78 720.36 Tm']"
      ]
     },
     "execution_count": 14,
     "metadata": {},
     "output_type": "execute_result"
    }
   ],
   "source": [
    "import re\n",
    ">>> re.findall(\"\\d+\\.\\d+ \\d+\\.\\d+[\\s]T[m|M]\", \"-0.028 Tc 0.0578 Tw 9.166 0 0 9.1657 123.78 720.36 Tm\")"
   ]
  },
  {
   "cell_type": "code",
   "execution_count": 46,
   "metadata": {
    "collapsed": false
   },
   "outputs": [
    {
     "data": {
      "text/plain": [
       "[('720.36', 'Tm')]"
      ]
     },
     "execution_count": 46,
     "metadata": {},
     "output_type": "execute_result"
    }
   ],
   "source": [
    " >>> re.findall(r\"[-+]?\\d*\\.\\d+|\\d+ Tm\", \"-0.028 Tc 0.0578 Tw 9.166 0 0 9.1657 123.78 720.36 Tm\")"
   ]
  },
  {
   "cell_type": "code",
   "execution_count": null,
   "metadata": {
    "collapsed": true
   },
   "outputs": [],
   "source": []
  }
 ],
 "metadata": {
  "kernelspec": {
   "display_name": "Python 2",
   "language": "python",
   "name": "python2"
  },
  "language_info": {
   "codemirror_mode": {
    "name": "ipython",
    "version": 2
   },
   "file_extension": ".py",
   "mimetype": "text/x-python",
   "name": "python",
   "nbconvert_exporter": "python",
   "pygments_lexer": "ipython2",
   "version": "2.7.13"
  }
 },
 "nbformat": 4,
 "nbformat_minor": 2
}
